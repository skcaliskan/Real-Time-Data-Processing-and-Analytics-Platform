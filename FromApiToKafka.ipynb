{
 "cells": [
  {
   "cell_type": "code",
   "execution_count": null,
   "id": "9efab40d",
   "metadata": {},
   "outputs": [],
   "source": [
    "get_ipython().system('pip install kafka-python')\n",
    "get_ipython().system('pip install requests')"
   ]
  },
  {
   "cell_type": "code",
   "execution_count": 7,
   "id": "aadaf926",
   "metadata": {},
   "outputs": [],
   "source": [
    "import json\n",
    "f = open('tokens.json')\n",
    "# returns JSON object as a dictionary\n",
    "json_data = json.load(f)\n"
   ]
  },
  {
   "cell_type": "code",
   "execution_count": null,
   "id": "64946d0e",
   "metadata": {},
   "outputs": [
    {
     "name": "stdout",
     "output_type": "stream",
     "text": [
      "mesaj gönderildi\n",
      "{'zone': 'DE', 'datetime': '2025-06-10T16:00:00.000Z', 'updatedAt': '2025-06-10T15:44:19.180Z', 'createdAt': '2025-06-07T16:42:59.616Z', 'powerConsumptionBreakdown': {'nuclear': 1112, 'geothermal': 18, 'biomass': 3923, 'coal': 4825, 'wind': 28275, 'solar': 10909, 'hydro': 2125, 'gas': 3156, 'oil': 259, 'unknown': 206, 'hydro discharge': 0, 'battery discharge': 1}, 'powerProductionBreakdown': {'nuclear': None, 'geothermal': 21, 'biomass': 4489, 'coal': 5564, 'wind': 32432, 'solar': 12227, 'hydro': 2097, 'gas': 3575, 'oil': 297, 'unknown': 218, 'hydro discharge': -792, 'battery discharge': None}, 'powerImportBreakdown': {'AT': 0, 'BE': 285, 'CH': 226, 'CZ': 0, 'FR': 1775, 'LU': 0, 'NL': 0, 'PL': 0, 'DK-DK1': 0, 'DK-DK2': 0, 'NO-NO2': 0, 'SE-SE4': 0}, 'powerExportBreakdown': {'AT': 308, 'BE': 0, 'CH': 0, 'CZ': 1171, 'FR': 0, 'LU': 233, 'NL': 242, 'PL': 1428, 'DK-DK1': 2462, 'DK-DK2': 902, 'NO-NO2': 850, 'SE-SE4': 9}, 'fossilFreePercentage': 85, 'renewablePercentage': 83, 'powerConsumptionTotal': 54809, 'powerProductionTotal': 60919, 'powerImportTotal': 2285, 'powerExportTotal': 7604, 'isEstimated': True, 'estimationMethod': 'FORECASTS_HIERARCHY', 'GetDataDateTime': '2025-06-10 16:09:46', 'id': 'ec5bc67e-075a-48d6-98fb-ceb28081dd9c', 'zoneid': '1'}\n",
      "mesaj gönderildi\n",
      "{'zone': 'FR', 'datetime': '2025-06-10T16:00:00.000Z', 'updatedAt': '2025-06-10T15:44:02.482Z', 'createdAt': '2025-06-07T16:43:13.090Z', 'powerConsumptionBreakdown': {'nuclear': 31973, 'geothermal': 0, 'biomass': 750, 'coal': 0, 'wind': 2297, 'solar': 7913, 'hydro': 5738, 'gas': 1243, 'oil': 57, 'unknown': 0, 'hydro discharge': 0, 'battery discharge': 6}, 'powerProductionBreakdown': {'nuclear': 38316, 'geothermal': None, 'biomass': 898, 'coal': 0, 'wind': 2753, 'solar': 9483, 'hydro': 6876, 'gas': 1490, 'oil': 69, 'unknown': None, 'hydro discharge': -116, 'battery discharge': 8}, 'powerImportBreakdown': {'BE': 0, 'CH': 0, 'DE': 0, 'ES': 0, 'GB': 0, 'IT-NO': 0}, 'powerExportBreakdown': {'BE': 2465, 'CH': 797, 'DE': 1775, 'ES': 1431, 'GB': 2474, 'IT-NO': 856}, 'fossilFreePercentage': 97, 'renewablePercentage': 33, 'powerConsumptionTotal': 49977, 'powerProductionTotal': 59891, 'powerImportTotal': 0, 'powerExportTotal': 9798, 'isEstimated': True, 'estimationMethod': 'TIME_SLICER_AVERAGE', 'GetDataDateTime': '2025-06-10 16:09:56', 'id': '64e7ebee-009d-491b-b1de-3702334dd975', 'zoneid': '2'}\n",
      "mesaj gönderildi\n",
      "{'zone': 'ES', 'datetime': '2025-06-10T16:00:00.000Z', 'updatedAt': '2025-06-10T15:44:21.192Z', 'createdAt': '2025-06-07T16:43:15.215Z', 'powerConsumptionBreakdown': {'nuclear': 5674, 'geothermal': 0, 'biomass': 565, 'coal': 178, 'wind': 2685, 'solar': 13672, 'hydro': 2711, 'gas': 6948, 'oil': 61, 'unknown': 71, 'hydro discharge': 0, 'battery discharge': 0}, 'powerProductionBreakdown': {'nuclear': 5082, 'geothermal': 0, 'biomass': 571, 'coal': 188, 'wind': 2742, 'solar': 14185, 'hydro': 2688, 'gas': 7291, 'oil': 63, 'unknown': 75, 'hydro discharge': -944, 'battery discharge': None}, 'powerImportBreakdown': {'AD': 0, 'FR': 1431, 'MA': 0, 'PT': 103, 'ES-IB-MA': 0}, 'powerExportBreakdown': {'AD': 12, 'FR': 0, 'MA': 717, 'PT': 0, 'ES-IB-MA': 178}, 'fossilFreePercentage': 78, 'renewablePercentage': 60, 'powerConsumptionTotal': 32566, 'powerProductionTotal': 32883, 'powerImportTotal': 1534, 'powerExportTotal': 907, 'isEstimated': True, 'estimationMethod': 'TIME_SLICER_AVERAGE', 'GetDataDateTime': '2025-06-10 16:10:06', 'id': '48e206a4-a6be-4cb0-811e-74dd56d75743', 'zoneid': '3'}\n",
      "mesaj gönderildi\n",
      "{'zone': 'IT', 'datetime': '2025-06-10T16:00:00.000Z', 'updatedAt': '2025-06-10T15:44:02.482Z', 'createdAt': '2025-06-07T16:43:15.215Z', 'powerConsumptionBreakdown': {'nuclear': 1047, 'geothermal': 137, 'biomass': 266, 'coal': 68, 'wind': 467, 'solar': 2444, 'hydro': 3175, 'gas': 3025, 'oil': 23, 'unknown': 325, 'hydro discharge': 168, 'battery discharge': 0}, 'powerProductionBreakdown': {'nuclear': None, 'geothermal': 145, 'biomass': 251, 'coal': 88, 'wind': 351, 'solar': 1922, 'hydro': 1509, 'gas': 3074, 'oil': 9, 'unknown': 280, 'hydro discharge': 45, 'battery discharge': None}, 'powerImportBreakdown': {'AT': 73, 'CH': 2089, 'FR': 856, 'GR': 126, 'ME': 0, 'MT': 0, 'SI': 612, 'FR-COR': 0}, 'powerExportBreakdown': {'AT': 0, 'CH': 0, 'FR': 0, 'GR': 0, 'ME': 234, 'MT': 38, 'SI': 0, 'FR-COR': 13}, 'fossilFreePercentage': 69, 'renewablePercentage': 60, 'powerConsumptionTotal': 11145, 'powerProductionTotal': 7674, 'powerImportTotal': 3756, 'powerExportTotal': 285, 'isEstimated': True, 'estimationMethod': 'TIME_SLICER_AVERAGE', 'GetDataDateTime': '2025-06-10 16:10:17', 'id': '29fa5e62-4ca8-40b7-8b3a-e0d0dd0f77bf', 'zoneid': '4'}\n",
      "mesaj gönderildi\n",
      "{'zone': 'DE', 'datetime': '2025-06-10T16:00:00.000Z', 'updatedAt': '2025-06-10T15:44:19.180Z', 'createdAt': '2025-06-07T16:42:59.616Z', 'powerConsumptionBreakdown': {'nuclear': 1112, 'geothermal': 18, 'biomass': 3923, 'coal': 4825, 'wind': 28275, 'solar': 10909, 'hydro': 2125, 'gas': 3156, 'oil': 259, 'unknown': 206, 'hydro discharge': 0, 'battery discharge': 1}, 'powerProductionBreakdown': {'nuclear': None, 'geothermal': 21, 'biomass': 4489, 'coal': 5564, 'wind': 32432, 'solar': 12227, 'hydro': 2097, 'gas': 3575, 'oil': 297, 'unknown': 218, 'hydro discharge': -792, 'battery discharge': None}, 'powerImportBreakdown': {'AT': 0, 'BE': 285, 'CH': 226, 'CZ': 0, 'FR': 1775, 'LU': 0, 'NL': 0, 'PL': 0, 'DK-DK1': 0, 'DK-DK2': 0, 'NO-NO2': 0, 'SE-SE4': 0}, 'powerExportBreakdown': {'AT': 308, 'BE': 0, 'CH': 0, 'CZ': 1171, 'FR': 0, 'LU': 233, 'NL': 242, 'PL': 1428, 'DK-DK1': 2462, 'DK-DK2': 902, 'NO-NO2': 850, 'SE-SE4': 9}, 'fossilFreePercentage': 85, 'renewablePercentage': 83, 'powerConsumptionTotal': 54809, 'powerProductionTotal': 60919, 'powerImportTotal': 2285, 'powerExportTotal': 7604, 'isEstimated': True, 'estimationMethod': 'FORECASTS_HIERARCHY', 'GetDataDateTime': '2025-06-10 16:10:27', 'id': '28ffc8f2-ef3e-40eb-bc0b-8b0504880d45', 'zoneid': '1'}\n",
      "mesaj gönderildi\n",
      "{'zone': 'FR', 'datetime': '2025-06-10T16:00:00.000Z', 'updatedAt': '2025-06-10T15:44:02.482Z', 'createdAt': '2025-06-07T16:43:13.090Z', 'powerConsumptionBreakdown': {'nuclear': 31973, 'geothermal': 0, 'biomass': 750, 'coal': 0, 'wind': 2297, 'solar': 7913, 'hydro': 5738, 'gas': 1243, 'oil': 57, 'unknown': 0, 'hydro discharge': 0, 'battery discharge': 6}, 'powerProductionBreakdown': {'nuclear': 38316, 'geothermal': None, 'biomass': 898, 'coal': 0, 'wind': 2753, 'solar': 9483, 'hydro': 6876, 'gas': 1490, 'oil': 69, 'unknown': None, 'hydro discharge': -116, 'battery discharge': 8}, 'powerImportBreakdown': {'BE': 0, 'CH': 0, 'DE': 0, 'ES': 0, 'GB': 0, 'IT-NO': 0}, 'powerExportBreakdown': {'BE': 2465, 'CH': 797, 'DE': 1775, 'ES': 1431, 'GB': 2474, 'IT-NO': 856}, 'fossilFreePercentage': 97, 'renewablePercentage': 33, 'powerConsumptionTotal': 49977, 'powerProductionTotal': 59891, 'powerImportTotal': 0, 'powerExportTotal': 9798, 'isEstimated': True, 'estimationMethod': 'TIME_SLICER_AVERAGE', 'GetDataDateTime': '2025-06-10 16:10:37', 'id': '6a1831f8-33b9-4550-a0f2-2a49c2262c76', 'zoneid': '2'}\n",
      "mesaj gönderildi\n",
      "{'zone': 'ES', 'datetime': '2025-06-10T16:00:00.000Z', 'updatedAt': '2025-06-10T15:44:21.192Z', 'createdAt': '2025-06-07T16:43:15.215Z', 'powerConsumptionBreakdown': {'nuclear': 5674, 'geothermal': 0, 'biomass': 565, 'coal': 178, 'wind': 2685, 'solar': 13672, 'hydro': 2711, 'gas': 6948, 'oil': 61, 'unknown': 71, 'hydro discharge': 0, 'battery discharge': 0}, 'powerProductionBreakdown': {'nuclear': 5082, 'geothermal': 0, 'biomass': 571, 'coal': 188, 'wind': 2742, 'solar': 14185, 'hydro': 2688, 'gas': 7291, 'oil': 63, 'unknown': 75, 'hydro discharge': -944, 'battery discharge': None}, 'powerImportBreakdown': {'AD': 0, 'FR': 1431, 'MA': 0, 'PT': 103, 'ES-IB-MA': 0}, 'powerExportBreakdown': {'AD': 12, 'FR': 0, 'MA': 717, 'PT': 0, 'ES-IB-MA': 178}, 'fossilFreePercentage': 78, 'renewablePercentage': 60, 'powerConsumptionTotal': 32566, 'powerProductionTotal': 32883, 'powerImportTotal': 1534, 'powerExportTotal': 907, 'isEstimated': True, 'estimationMethod': 'TIME_SLICER_AVERAGE', 'GetDataDateTime': '2025-06-10 16:10:47', 'id': '90e9566a-d14a-4a93-8d02-79e65c599ef0', 'zoneid': '3'}\n",
      "mesaj gönderildi\n",
      "{'zone': 'IT', 'datetime': '2025-06-10T16:00:00.000Z', 'updatedAt': '2025-06-10T15:44:02.482Z', 'createdAt': '2025-06-07T16:43:15.215Z', 'powerConsumptionBreakdown': {'nuclear': 1047, 'geothermal': 137, 'biomass': 266, 'coal': 68, 'wind': 467, 'solar': 2444, 'hydro': 3175, 'gas': 3025, 'oil': 23, 'unknown': 325, 'hydro discharge': 168, 'battery discharge': 0}, 'powerProductionBreakdown': {'nuclear': None, 'geothermal': 145, 'biomass': 251, 'coal': 88, 'wind': 351, 'solar': 1922, 'hydro': 1509, 'gas': 3074, 'oil': 9, 'unknown': 280, 'hydro discharge': 45, 'battery discharge': None}, 'powerImportBreakdown': {'AT': 73, 'CH': 2089, 'FR': 856, 'GR': 126, 'ME': 0, 'MT': 0, 'SI': 612, 'FR-COR': 0}, 'powerExportBreakdown': {'AT': 0, 'CH': 0, 'FR': 0, 'GR': 0, 'ME': 234, 'MT': 38, 'SI': 0, 'FR-COR': 13}, 'fossilFreePercentage': 69, 'renewablePercentage': 60, 'powerConsumptionTotal': 11145, 'powerProductionTotal': 7674, 'powerImportTotal': 3756, 'powerExportTotal': 285, 'isEstimated': True, 'estimationMethod': 'TIME_SLICER_AVERAGE', 'GetDataDateTime': '2025-06-10 16:10:58', 'id': '94a33869-d07a-4da5-9756-d9e4f88e2781', 'zoneid': '4'}\n"
     ]
    },
    {
     "name": "stdout",
     "output_type": "stream",
     "text": [
      "mesaj gönderildi\n",
      "{'zone': 'DE', 'datetime': '2025-06-10T16:00:00.000Z', 'updatedAt': '2025-06-10T15:44:19.180Z', 'createdAt': '2025-06-07T16:42:59.616Z', 'powerConsumptionBreakdown': {'nuclear': 1112, 'geothermal': 18, 'biomass': 3923, 'coal': 4825, 'wind': 28275, 'solar': 10909, 'hydro': 2125, 'gas': 3156, 'oil': 259, 'unknown': 206, 'hydro discharge': 0, 'battery discharge': 1}, 'powerProductionBreakdown': {'nuclear': None, 'geothermal': 21, 'biomass': 4489, 'coal': 5564, 'wind': 32432, 'solar': 12227, 'hydro': 2097, 'gas': 3575, 'oil': 297, 'unknown': 218, 'hydro discharge': -792, 'battery discharge': None}, 'powerImportBreakdown': {'AT': 0, 'BE': 285, 'CH': 226, 'CZ': 0, 'FR': 1775, 'LU': 0, 'NL': 0, 'PL': 0, 'DK-DK1': 0, 'DK-DK2': 0, 'NO-NO2': 0, 'SE-SE4': 0}, 'powerExportBreakdown': {'AT': 308, 'BE': 0, 'CH': 0, 'CZ': 1171, 'FR': 0, 'LU': 233, 'NL': 242, 'PL': 1428, 'DK-DK1': 2462, 'DK-DK2': 902, 'NO-NO2': 850, 'SE-SE4': 9}, 'fossilFreePercentage': 85, 'renewablePercentage': 83, 'powerConsumptionTotal': 54809, 'powerProductionTotal': 60919, 'powerImportTotal': 2285, 'powerExportTotal': 7604, 'isEstimated': True, 'estimationMethod': 'FORECASTS_HIERARCHY', 'GetDataDateTime': '2025-06-10 16:11:08', 'id': '50f0a0cc-cd4c-45b6-ab65-571ca26eaf93', 'zoneid': '1'}\n",
      "mesaj gönderildi\n",
      "{'zone': 'FR', 'datetime': '2025-06-10T16:00:00.000Z', 'updatedAt': '2025-06-10T15:44:02.482Z', 'createdAt': '2025-06-07T16:43:13.090Z', 'powerConsumptionBreakdown': {'nuclear': 31973, 'geothermal': 0, 'biomass': 750, 'coal': 0, 'wind': 2297, 'solar': 7913, 'hydro': 5738, 'gas': 1243, 'oil': 57, 'unknown': 0, 'hydro discharge': 0, 'battery discharge': 6}, 'powerProductionBreakdown': {'nuclear': 38316, 'geothermal': None, 'biomass': 898, 'coal': 0, 'wind': 2753, 'solar': 9483, 'hydro': 6876, 'gas': 1490, 'oil': 69, 'unknown': None, 'hydro discharge': -116, 'battery discharge': 8}, 'powerImportBreakdown': {'BE': 0, 'CH': 0, 'DE': 0, 'ES': 0, 'GB': 0, 'IT-NO': 0}, 'powerExportBreakdown': {'BE': 2465, 'CH': 797, 'DE': 1775, 'ES': 1431, 'GB': 2474, 'IT-NO': 856}, 'fossilFreePercentage': 97, 'renewablePercentage': 33, 'powerConsumptionTotal': 49977, 'powerProductionTotal': 59891, 'powerImportTotal': 0, 'powerExportTotal': 9798, 'isEstimated': True, 'estimationMethod': 'TIME_SLICER_AVERAGE', 'GetDataDateTime': '2025-06-10 16:11:18', 'id': '1f6f7a2a-390b-401e-9093-8cf83e431f8f', 'zoneid': '2'}\n",
      "mesaj gönderildi\n",
      "{'zone': 'ES', 'datetime': '2025-06-10T16:00:00.000Z', 'updatedAt': '2025-06-10T15:44:21.192Z', 'createdAt': '2025-06-07T16:43:15.215Z', 'powerConsumptionBreakdown': {'nuclear': 5674, 'geothermal': 0, 'biomass': 565, 'coal': 178, 'wind': 2685, 'solar': 13672, 'hydro': 2711, 'gas': 6948, 'oil': 61, 'unknown': 71, 'hydro discharge': 0, 'battery discharge': 0}, 'powerProductionBreakdown': {'nuclear': 5082, 'geothermal': 0, 'biomass': 571, 'coal': 188, 'wind': 2742, 'solar': 14185, 'hydro': 2688, 'gas': 7291, 'oil': 63, 'unknown': 75, 'hydro discharge': -944, 'battery discharge': None}, 'powerImportBreakdown': {'AD': 0, 'FR': 1431, 'MA': 0, 'PT': 103, 'ES-IB-MA': 0}, 'powerExportBreakdown': {'AD': 12, 'FR': 0, 'MA': 717, 'PT': 0, 'ES-IB-MA': 178}, 'fossilFreePercentage': 78, 'renewablePercentage': 60, 'powerConsumptionTotal': 32566, 'powerProductionTotal': 32883, 'powerImportTotal': 1534, 'powerExportTotal': 907, 'isEstimated': True, 'estimationMethod': 'TIME_SLICER_AVERAGE', 'GetDataDateTime': '2025-06-10 16:11:29', 'id': 'ab21eee5-8e8f-4854-92a5-6804dc462ce7', 'zoneid': '3'}\n"
     ]
    }
   ],
   "source": [
    "import requests\n",
    "import json\n",
    "import time\n",
    "from datetime import datetime\n",
    "from kafka import KafkaProducer\n",
    "import uuid\n",
    "\n",
    "\n",
    "url =  \"https://api.electricitymap.org/v3/power-breakdown/latest\"\n",
    "\n",
    "\n",
    "\n",
    "producer = KafkaProducer(bootstrap_servers='IP_Adress:9092',\n",
    "                            value_serializer=lambda v: json.dumps(v).encode('utf-8'),\n",
    "                            key_serializer=lambda v: json.dumps(v).encode('utf-8')\n",
    "                            )\n",
    "\n",
    "def get_power_data(url, params, headers):\n",
    "    \"\"\"\n",
    "    Fetches power data for a given zone using electricitymap.org API.\n",
    "    \"\"\"\n",
    "    try:\n",
    "        response = requests.get(url, params=params, headers=headers)\n",
    "        return response.json()\n",
    "\n",
    "    except:\n",
    "        print(f'Response status code: {response.status_code}')\n",
    "  \n",
    "\n",
    "\n",
    "while True:\n",
    "    for i in json_data:\n",
    "        data = get_power_data(url, i['headers'], i['params'])\n",
    "        data['GetDataDateTime'] = datetime.now().strftime(\"%Y-%m-%d %H:%M:%S\")\n",
    "        data[\"id\"] = str(uuid.uuid4())\n",
    "        data[\"zoneid\"] = i['id']\n",
    "       \n",
    "        time.sleep(10)\n",
    "\n",
    "        producer.send(\n",
    "         'powerbreakdown',\n",
    "         value=data\n",
    "        )\n",
    "        producer.flush()\n",
    "        print(\"mesaj gönderildi\")\n",
    "        print(data)\n"
   ]
  },
  {
   "cell_type": "code",
   "execution_count": null,
   "id": "0a10f9a5",
   "metadata": {},
   "outputs": [],
   "source": []
  }
 ],
 "metadata": {
  "kernelspec": {
   "display_name": "Python 3",
   "language": "python",
   "name": "python3"
  },
  "language_info": {
   "codemirror_mode": {
    "name": "ipython",
    "version": 3
   },
   "file_extension": ".py",
   "mimetype": "text/x-python",
   "name": "python",
   "nbconvert_exporter": "python",
   "pygments_lexer": "ipython3",
   "version": "3.11.8"
  }
 },
 "nbformat": 4,
 "nbformat_minor": 5
}
